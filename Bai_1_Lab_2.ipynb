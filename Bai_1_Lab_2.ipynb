{
  "cells": [
    {
      "cell_type": "code",
      "source": [
        "import networkx as nx\n",
        "import pandas as pd\n",
        "import matplotlib.pyplot as plt\n",
        "import urllib.request\n",
        "import io\n",
        "import numpy as np\n"
      ],
      "metadata": {
        "id": "IulHojVadwUS"
      },
      "execution_count": 1,
      "outputs": []
    },
    {
      "cell_type": "code",
      "source": [
        "def fetch_and_parse_dataset():\n",
        "    # Tải và xử lý dữ liệu mạng xã hội từ SNAP\n",
        "    dataset_url = 'https://snap.stanford.edu/data/facebook_combined.txt.gz'\n",
        "    response = urllib.request.urlopen(dataset_url)\n",
        "    raw_data = response.read()\n",
        "\n",
        "    network_df = pd.read_csv(io.BytesIO(raw_data), compression='gzip', sep=' ', names=['node_a', 'node_b'])\n",
        "    return network_df\n"
      ],
      "metadata": {
        "id": "kJoIypE7dxSN"
      },
      "execution_count": 2,
      "outputs": []
    },
    {
      "cell_type": "code",
      "source": [
        "def compute_graph_metrics(graph):\n",
        "    # Tính toán các chỉ số của đồ thị\n",
        "    graph_stats = {}\n",
        "    graph_stats['total_nodes'] = graph.number_of_nodes()\n",
        "    graph_stats['total_edges'] = graph.number_of_edges()\n",
        "\n",
        "    graph_stats['network_density'] = nx.density(graph)\n",
        "\n",
        "    graph_stats['mean_degree'] = np.mean([deg for node, deg in graph.degree()])\n",
        "    node_degrees = dict(graph.degree())\n",
        "    graph_stats['degree_avg'] = sum(node_degrees.values()) / len(node_degrees)\n",
        "    graph_stats['degree_max'] = max(node_degrees.values())\n",
        "    graph_stats['all_degrees'] = node_degrees\n",
        "\n",
        "    degree_centrality = nx.degree_centrality(graph)\n",
        "    graph_stats['degree_centrality'] = {\n",
        "        'values': degree_centrality,\n",
        "        'max_value': max(degree_centrality.values()),\n",
        "        'mean_value': sum(degree_centrality.values()) / len(degree_centrality),\n",
        "        'max_node': max(degree_centrality, key=degree_centrality.get)\n",
        "    }\n",
        "\n",
        "    betweenness_centrality = nx.betweenness_centrality(graph)\n",
        "    graph_stats['betweenness_centrality'] = {\n",
        "        'values': betweenness_centrality,\n",
        "        'max_value': max(betweenness_centrality.values()),\n",
        "        'mean_value': sum(betweenness_centrality.values()) / len(betweenness_centrality),\n",
        "        'max_node': max(betweenness_centrality, key=betweenness_centrality.get)\n",
        "    }\n",
        "\n",
        "    closeness_centrality = nx.closeness_centrality(graph)\n",
        "    graph_stats['closeness_centrality'] = {\n",
        "        'values': closeness_centrality,\n",
        "        'max_value': max(closeness_centrality.values()),\n",
        "        'mean_value': sum(closeness_centrality.values()) / len(closeness_centrality),\n",
        "        'max_node': max(closeness_centrality, key=closeness_centrality.get)\n",
        "    }\n",
        "\n",
        "    page_rank = nx.pagerank(graph, alpha=0.85)\n",
        "    graph_stats['page_rank'] = {\n",
        "        'values': page_rank,\n",
        "        'max_value': max(page_rank.values()),\n",
        "        'mean_value': sum(page_rank.values()) / len(page_rank),\n",
        "        'max_node': max(page_rank, key=page_rank.get)\n",
        "    }\n",
        "\n",
        "    return graph_stats\n"
      ],
      "metadata": {
        "id": "N2crErhUd0p0"
      },
      "execution_count": 3,
      "outputs": []
    },
    {
      "cell_type": "code",
      "source": [
        "def display_metrics_details(graph_metrics):\n",
        "    # In thông tin chi tiết của các chỉ số\n",
        "    print(\"\\n======== KẾT QUẢ PHÂN TÍCH ĐỒ THỊ ========= \")\n",
        "    print(\"1. Thông tin cơ bản\")\n",
        "    print(f\"- Số lượng nút: {graph_metrics['total_nodes']}\")\n",
        "    print(f\"- Số lượng cạnh: {graph_metrics['total_edges']}\")\n",
        "    print(f\"- Mật độ mạng: {graph_metrics['network_density']}\")\n",
        "    print(f\"- Độ trung bình: {graph_metrics['mean_degree']}\")\n",
        "    print(f\"- Độ lớn nhất: {graph_metrics['degree_max']}\")\n",
        "\n",
        "    centrality_metrics = {\n",
        "        'Degree Centrality': 'degree_centrality',\n",
        "        'Betweenness Centrality': 'betweenness_centrality',\n",
        "        'Closeness Centrality': 'closeness_centrality',\n",
        "        'PageRank': 'page_rank'\n",
        "    }\n",
        "\n",
        "    print(\"2. Các chỉ số Centrality\")\n",
        "    for metric_name, key in centrality_metrics.items():\n",
        "        print(f\"- {metric_name}\")\n",
        "        print(f\"  - Giá trị lớn nhất: {graph_metrics[key]['max_value']:.4f}\")\n",
        "        print(f\"  - Giá trị trung bình: {graph_metrics[key]['mean_value']:.4f}\")\n",
        "        print(f\"  - Node có giá trị cao nhất: {graph_metrics[key]['max_node']}\")"
      ],
      "metadata": {
        "id": "xXa3lHs9d1BU"
      },
      "execution_count": 4,
      "outputs": []
    },
    {
      "cell_type": "code",
      "source": [
        "\n",
        "# Chạy chương trình\n",
        "network_data = fetch_and_parse_dataset()\n",
        "network_graph = nx.from_pandas_edgelist(network_data, 'node_a', 'node_b')\n",
        "network_metrics = compute_graph_metrics(network_graph)\n",
        "display_metrics_details(network_metrics)"
      ],
      "metadata": {
        "id": "cu2I_d5Kd5iL",
        "colab": {
          "base_uri": "https://localhost:8080/"
        },
        "outputId": "f6a86fa0-4135-48d3-ef5f-623685589748"
      },
      "execution_count": 5,
      "outputs": [
        {
          "output_type": "stream",
          "name": "stdout",
          "text": [
            "\n",
            "======== KẾT QUẢ PHÂN TÍCH ĐỒ THỊ ========= \n",
            "1. Thông tin cơ bản\n",
            "- Số lượng nút: 4039\n",
            "- Số lượng cạnh: 88234\n",
            "- Mật độ mạng: 0.010819963503439287\n",
            "- Độ trung bình: 43.69101262688784\n",
            "- Độ lớn nhất: 1045\n",
            "2. Các chỉ số Centrality\n",
            "- Degree Centrality\n",
            "  - Giá trị lớn nhất: 0.2588\n",
            "  - Giá trị trung bình: 0.0108\n",
            "  - Node có giá trị cao nhất: 107\n",
            "- Betweenness Centrality\n",
            "  - Giá trị lớn nhất: 0.4805\n",
            "  - Giá trị trung bình: 0.0007\n",
            "  - Node có giá trị cao nhất: 107\n",
            "- Closeness Centrality\n",
            "  - Giá trị lớn nhất: 0.4597\n",
            "  - Giá trị trung bình: 0.2762\n",
            "  - Node có giá trị cao nhất: 107\n",
            "- PageRank\n",
            "  - Giá trị lớn nhất: 0.0076\n",
            "  - Giá trị trung bình: 0.0002\n",
            "  - Node có giá trị cao nhất: 3437\n"
          ]
        }
      ]
    },
    {
      "cell_type": "code",
      "source": [],
      "metadata": {
        "id": "hRnCX9kEd6vH"
      },
      "execution_count": 5,
      "outputs": []
    }
  ],
  "metadata": {
    "colab": {
      "provenance": []
    },
    "kernelspec": {
      "display_name": "Python 3",
      "name": "python3"
    }
  },
  "nbformat": 4,
  "nbformat_minor": 0
}