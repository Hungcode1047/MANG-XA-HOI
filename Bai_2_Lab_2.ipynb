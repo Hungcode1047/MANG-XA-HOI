{
  "cells": [
    {
      "cell_type": "code",
      "source": [
        "import networkx as nx\n",
        "import pandas as pd\n",
        "import numpy as np\n",
        "import matplotlib.pyplot as plt\n",
        "import zipfile\n",
        "import requests\n",
        "import io\n",
        "import time"
      ],
      "metadata": {
        "id": "IulHojVadwUS"
      },
      "execution_count": 8,
      "outputs": []
    },
    {
      "cell_type": "code",
      "source": [
        "def fetch_and_load_dataset():\n",
        "    \"\"\"\n",
        "    Tải và xử lý dữ liệu mạng các trang Facebook về thực phẩm\n",
        "    Returns:\n",
        "        DataFrame: Chứa các cạnh của đồ thị\n",
        "    \"\"\"\n",
        "    print(\"Đang tải dữ liệu mạng Facebook Food Pages...\")\n",
        "\n",
        "    # URL của dataset\n",
        "    dataset_link = \"https://nrvis.com/download/data/soc/fb-pages-food.zip\"\n",
        "\n",
        "    try:\n",
        "        # Tải dữ liệu\n",
        "        response = requests.get(dataset_link)\n",
        "        if response.status_code == 200:\n",
        "            # Đọc file zip\n",
        "            zip_file = zipfile.ZipFile(io.BytesIO(response.content))\n",
        "\n",
        "            # Đọc dữ liệu từ file trong zip\n",
        "            edges_data = pd.read_csv(zip_file.open('fb-pages-food.edges'),\n",
        "                                     sep=' ',\n",
        "                                     names=['start_node', 'end_node'])\n",
        "            return edges_data\n",
        "        else:\n",
        "            raise Exception(\"Không thể tải dữ liệu\")\n",
        "    except Exception as error:\n",
        "        print(f\"Lỗi khi tải dữ liệu: {error}\")\n",
        "        return None"
      ],
      "metadata": {
        "id": "egqWwHt5gRGs"
      },
      "execution_count": 9,
      "outputs": []
    },
    {
      "cell_type": "code",
      "source": [
        "def evaluate_network(graph):\n",
        "    \"\"\"\n",
        "    Phân tích đặc trưng của mạng Facebook Pages\n",
        "    Args:\n",
        "        graph: Đồ thị NetworkX\n",
        "    Returns:\n",
        "        dict: Các số đo của mạng\n",
        "    \"\"\"\n",
        "    analysis_results = {}\n",
        "\n",
        "    # 1. Thông tin cơ bản\n",
        "    print(\"\\nĐang tính toán thông tin cơ bản...\")\n",
        "    analysis_results['total_nodes'] = graph.number_of_nodes()\n",
        "    analysis_results['total_edges'] = graph.number_of_edges()\n",
        "    analysis_results['graph_density'] = nx.density(graph)\n",
        "\n",
        "    # 2. Degree Analysis\n",
        "    print(\"Đang tính toán độ liên kết (degree metrics)...\")\n",
        "    start_timer = time.time()\n",
        "    node_degrees = dict(graph.degree())\n",
        "    analysis_results['mean_degree'] = np.mean(list(node_degrees.values()))\n",
        "    analysis_results['max_degree'] = max(node_degrees.values())\n",
        "    analysis_results['all_degrees'] = node_degrees\n",
        "    print(f\"Thời gian hoàn tất: {time.time() - start_timer:.2f}s\")\n",
        "\n",
        "    # 3. Degree Centrality\n",
        "    print(\"Đang tính toán Degree Centrality...\")\n",
        "    start_timer = time.time()\n",
        "    degree_centrality = nx.degree_centrality(graph)\n",
        "    analysis_results['degree_centrality'] = {\n",
        "        'values': degree_centrality,\n",
        "        'max_value': max(degree_centrality.values()),\n",
        "        'mean_value': sum(degree_centrality.values()) / len(degree_centrality),\n",
        "        'top_nodes': sorted(degree_centrality.items(), key=lambda x: x[1], reverse=True)[:10]\n",
        "    }\n",
        "    print(f\"Thời gian hoàn tất: {time.time() - start_timer:.2f}s\")\n",
        "\n",
        "    # 4. Betweenness Centrality\n",
        "    print(\"Đang tính toán Betweenness Centrality...\")\n",
        "    start_timer = time.time()\n",
        "    betweenness_centrality = nx.betweenness_centrality(graph)\n",
        "    analysis_results['betweenness_centrality'] = {\n",
        "        'values': betweenness_centrality,\n",
        "        'max_value': max(betweenness_centrality.values()),\n",
        "        'mean_value': sum(betweenness_centrality.values()) / len(betweenness_centrality),\n",
        "        'top_nodes': sorted(betweenness_centrality.items(), key=lambda x: x[1], reverse=True)[:10]\n",
        "    }\n",
        "    print(f\"Thời gian hoàn tất: {time.time() - start_timer:.2f}s\")\n",
        "\n",
        "    # 5. Closeness Centrality\n",
        "    print(\"Đang tính toán Closeness Centrality...\")\n",
        "    start_timer = time.time()\n",
        "    closeness_centrality = nx.closeness_centrality(graph)\n",
        "    analysis_results['closeness_centrality'] = {\n",
        "        'values': closeness_centrality,\n",
        "        'max_value': max(closeness_centrality.values()),\n",
        "        'mean_value': sum(closeness_centrality.values()) / len(closeness_centrality),\n",
        "        'top_nodes': sorted(closeness_centrality.items(), key=lambda x: x[1], reverse=True)[:10]\n",
        "    }\n",
        "    print(f\"Thời gian hoàn tất: {time.time() - start_timer:.2f}s\")\n",
        "\n",
        "    # 6. PageRank\n",
        "    print(\"Đang tính toán PageRank...\")\n",
        "    start_timer = time.time()\n",
        "    page_rank = nx.pagerank(graph, alpha=0.85)\n",
        "    analysis_results['pagerank'] = {\n",
        "        'values': page_rank,\n",
        "        'max_value': max(page_rank.values()),\n",
        "        'mean_value': sum(page_rank.values()) / len(page_rank),\n",
        "        'top_nodes': sorted(page_rank.items(), key=lambda x: x[1], reverse=True)[:10]\n",
        "    }\n",
        "    print(f\"Thời gian hoàn tất: {time.time() - start_timer:.2f}s\")\n",
        "\n",
        "    return analysis_results"
      ],
      "metadata": {
        "id": "myFX0dAngU-y"
      },
      "execution_count": 10,
      "outputs": []
    },
    {
      "cell_type": "code",
      "source": [
        "def summarize_results(analysis_results):\n",
        "    \"\"\"\n",
        "    In kết quả phân tích đồ thị\n",
        "    \"\"\"\n",
        "    print(\"\\nTỔNG QUAN PHÂN TÍCH MẠNG FACEBOOK FOOD PAGES\")\n",
        "    print(\"=\" * 50)\n",
        "\n",
        "    print(\"\\n1. THÔNG TIN CƠ BẢN\")\n",
        "    print(\"-\" * 30)\n",
        "    print(f\"Tổng số nút: {analysis_results['total_nodes']:,}\")\n",
        "    print(f\"Tổng số cạnh: {analysis_results['total_edges']:,}\")\n",
        "    print(f\"Mật độ đồ thị: {analysis_results['graph_density']:.6f}\")\n",
        "    print(f\"Liên kết trung bình mỗi nút: {analysis_results['mean_degree']:.2f}\")\n",
        "    print(f\"Liên kết nhiều nhất: {analysis_results['max_degree']}\")\n",
        "\n",
        "    print(\"\\n2. PHÂN TÍCH CHỈ SỐ CENTRALITY\")\n",
        "    centrality_metrics = {\n",
        "        'Degree Centrality': 'degree_centrality',\n",
        "        'Betweenness Centrality': 'betweenness_centrality',\n",
        "        'Closeness Centrality': 'closeness_centrality',\n",
        "        'PageRank': 'pagerank'\n",
        "    }\n",
        "\n",
        "    for metric_name, key in centrality_metrics.items():\n",
        "        print(f\"\\n{metric_name}:\")\n",
        "        print(f\"- Giá trị trung bình: {analysis_results[key]['mean_value']:.6f}\")\n",
        "        print(f\"- Giá trị lớn nhất: {analysis_results[key]['max_value']:.6f}\")\n",
        "        print(\"\\nTop 5 nút có giá trị cao nhất:\")\n",
        "        for node, score in analysis_results[key]['top_nodes'][:5]:\n",
        "            print(f\"Nút {node}: {score:.6f}\")"
      ],
      "metadata": {
        "id": "KHrDpfExgVUY"
      },
      "execution_count": 11,
      "outputs": []
    },
    {
      "cell_type": "code",
      "source": [
        "# Tải và xử lý dữ liệu\n",
        "edge_dataframe = fetch_and_load_dataset()\n",
        "\n",
        "# Tạo đồ thị có hướng từ dữ liệu\n",
        "print(\"Đang xây dựng đồ thị...\")\n",
        "directed_graph = nx.from_pandas_edgelist(edge_dataframe, 'start_node', 'end_node', create_using=nx.DiGraph())"
      ],
      "metadata": {
        "colab": {
          "base_uri": "https://localhost:8080/"
        },
        "id": "vRfkcsUCgW2F",
        "outputId": "fbc47975-6fcd-43d9-fa48-fc36227b16cf"
      },
      "execution_count": 12,
      "outputs": [
        {
          "output_type": "stream",
          "name": "stdout",
          "text": [
            "Đang tải dữ liệu mạng Facebook Food Pages...\n",
            "Đang xây dựng đồ thị...\n"
          ]
        }
      ]
    },
    {
      "cell_type": "code",
      "source": [
        "# Phân tích mạng\n",
        "analysis_metrics = evaluate_network(directed_graph)"
      ],
      "metadata": {
        "colab": {
          "base_uri": "https://localhost:8080/"
        },
        "id": "-hT4P6VPgX7Q",
        "outputId": "f991c4b9-3a20-4994-aac6-09a72d84ea4c"
      },
      "execution_count": 13,
      "outputs": [
        {
          "output_type": "stream",
          "name": "stdout",
          "text": [
            "\n",
            "Đang tính toán thông tin cơ bản...\n",
            "Đang tính toán độ liên kết (degree metrics)...\n",
            "Thời gian hoàn tất: 0.00s\n",
            "Đang tính toán Degree Centrality...\n",
            "Thời gian hoàn tất: 0.00s\n",
            "Đang tính toán Betweenness Centrality...\n",
            "Thời gian hoàn tất: 19.18s\n",
            "Đang tính toán Closeness Centrality...\n",
            "Thời gian hoàn tất: 0.16s\n",
            "Đang tính toán PageRank...\n",
            "Thời gian hoàn tất: 0.01s\n"
          ]
        }
      ]
    },
    {
      "cell_type": "code",
      "source": [
        "# Xuất kết quả\n",
        "summarize_results(analysis_metrics)"
      ],
      "metadata": {
        "colab": {
          "base_uri": "https://localhost:8080/"
        },
        "id": "MIj2CqxAgZXs",
        "outputId": "45f2db93-35b6-4a16-b95b-ef41f9dc0195"
      },
      "execution_count": 14,
      "outputs": [
        {
          "output_type": "stream",
          "name": "stdout",
          "text": [
            "\n",
            "TỔNG QUAN PHÂN TÍCH MẠNG FACEBOOK FOOD PAGES\n",
            "==================================================\n",
            "\n",
            "1. THÔNG TIN CƠ BẢN\n",
            "------------------------------\n",
            "Tổng số nút: 4,204\n",
            "Tổng số cạnh: 2,102\n",
            "Mật độ đồ thị: 0.000119\n",
            "Liên kết trung bình mỗi nút: 1.00\n",
            "Liên kết nhiều nhất: 1\n",
            "\n",
            "2. PHÂN TÍCH CHỈ SỐ CENTRALITY\n",
            "\n",
            "Degree Centrality:\n",
            "- Giá trị trung bình: 0.000238\n",
            "- Giá trị lớn nhất: 0.000238\n",
            "\n",
            "Top 5 nút có giá trị cao nhất:\n",
            "Nút 0,276: 0.000238\n",
            "Nút nan: 0.000238\n",
            "Nút 0,58: 0.000238\n",
            "Nút nan: 0.000238\n",
            "Nút 0,132: 0.000238\n",
            "\n",
            "Betweenness Centrality:\n",
            "- Giá trị trung bình: 0.000000\n",
            "- Giá trị lớn nhất: 0.000000\n",
            "\n",
            "Top 5 nút có giá trị cao nhất:\n",
            "Nút 0,276: 0.000000\n",
            "Nút nan: 0.000000\n",
            "Nút 0,58: 0.000000\n",
            "Nút nan: 0.000000\n",
            "Nút 0,132: 0.000000\n",
            "\n",
            "Closeness Centrality:\n",
            "- Giá trị trung bình: 0.000119\n",
            "- Giá trị lớn nhất: 0.000238\n",
            "\n",
            "Top 5 nút có giá trị cao nhất:\n",
            "Nút nan: 0.000238\n",
            "Nút nan: 0.000238\n",
            "Nút nan: 0.000238\n",
            "Nút nan: 0.000238\n",
            "Nút nan: 0.000238\n",
            "\n",
            "PageRank:\n",
            "- Giá trị trung bình: 0.000238\n",
            "- Giá trị lớn nhất: 0.000309\n",
            "\n",
            "Top 5 nút có giá trị cao nhất:\n",
            "Nút nan: 0.000309\n",
            "Nút nan: 0.000309\n",
            "Nút nan: 0.000309\n",
            "Nút nan: 0.000309\n",
            "Nút nan: 0.000309\n"
          ]
        }
      ]
    },
    {
      "cell_type": "code",
      "source": [],
      "metadata": {
        "id": "ZrxGGwpEga-Q"
      },
      "execution_count": 14,
      "outputs": []
    }
  ],
  "metadata": {
    "colab": {
      "provenance": []
    },
    "kernelspec": {
      "display_name": "Python 3",
      "name": "python3"
    }
  },
  "nbformat": 4,
  "nbformat_minor": 0
}